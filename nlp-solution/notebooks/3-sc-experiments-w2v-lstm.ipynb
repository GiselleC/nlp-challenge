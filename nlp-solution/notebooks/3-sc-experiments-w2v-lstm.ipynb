{
 "cells": [
  {
   "cell_type": "code",
   "execution_count": 27,
   "metadata": {},
   "outputs": [],
   "source": [
    "import pandas as pd\n",
    "import numpy as np\n",
    "import matplotlib.pyplot as plt\n",
    "%matplotlib inline\n",
    "\n",
    "import seaborn as sns\n",
    "sns.set_style(\"dark\")\n",
    "plt.style.use('ggplot')\n",
    "\n",
    "from sklearn.metrics import classification_report\n",
    "import json"
   ]
  },
  {
   "cell_type": "markdown",
   "metadata": {},
   "source": [
    "## 1. Load data from train"
   ]
  },
  {
   "cell_type": "code",
   "execution_count": 9,
   "metadata": {},
   "outputs": [
    {
     "name": "stdout",
     "output_type": "stream",
     "text": [
      "2021-04-25 11:00:35,002 INFO sqlalchemy.engine.base.Engine SELECT CAST('test plain returns' AS VARCHAR(60)) AS anon_1\n",
      "2021-04-25 11:00:35,013 INFO sqlalchemy.engine.base.Engine ()\n",
      "2021-04-25 11:00:35,019 INFO sqlalchemy.engine.base.Engine SELECT CAST('test unicode returns' AS VARCHAR(60)) AS anon_1\n",
      "2021-04-25 11:00:35,020 INFO sqlalchemy.engine.base.Engine ()\n",
      "2021-04-25 11:00:35,024 INFO sqlalchemy.engine.base.Engine PRAGMA main.table_info(\"SELECT * FROM train\")\n",
      "2021-04-25 11:00:35,025 INFO sqlalchemy.engine.base.Engine ()\n",
      "2021-04-25 11:00:35,027 INFO sqlalchemy.engine.base.Engine PRAGMA temp.table_info(\"SELECT * FROM train\")\n",
      "2021-04-25 11:00:35,029 INFO sqlalchemy.engine.base.Engine ()\n",
      "2021-04-25 11:00:35,031 INFO sqlalchemy.engine.base.Engine SELECT * FROM train\n",
      "2021-04-25 11:00:35,033 INFO sqlalchemy.engine.base.Engine ()\n"
     ]
    }
   ],
   "source": [
    "from sqlalchemy import create_engine\n",
    "\n",
    "engine = create_engine('sqlite:///../data/data.db', echo=True)\n",
    "conn = engine.connect()\n",
    "\n",
    "df = pd.read_sql(\"SELECT * FROM train\",conn)"
   ]
  },
  {
   "cell_type": "code",
   "execution_count": 10,
   "metadata": {},
   "outputs": [
    {
     "data": {
      "text/plain": [
       "(5698, 3)"
      ]
     },
     "execution_count": 10,
     "metadata": {},
     "output_type": "execute_result"
    }
   ],
   "source": [
    "df.shape"
   ]
  },
  {
   "cell_type": "code",
   "execution_count": 11,
   "metadata": {},
   "outputs": [
    {
     "data": {
      "text/plain": [
       "824.company-brand.general-satisfaction.0                   2682\n",
       "824.account-management.account-access.0                     847\n",
       "824.company-brand.convenience.0                             799\n",
       "824.online-experience.updates-versions.0                    565\n",
       "824.company-brand.competitor.0                              520\n",
       "824.account-management.fingerprint-facial-recognition.0     199\n",
       "824.staff-support.agent-named.0                              32\n",
       "824.staff-support.email.0                                    17\n",
       "824.online-experience.language.0                             13\n",
       "824.purchase-booking-experience.choice-variety.0             11\n",
       "824.logistics-rides.speed.0                                   6\n",
       "824.attributes.size-fit.0                                     3\n",
       "824.logistics-rides.order-accuracy.0                          2\n",
       "824.attributes.taste-flavour.0                                1\n",
       "824.attributes.cleanliness.0                                  1\n",
       "Name: label, dtype: int64"
      ]
     },
     "execution_count": 11,
     "metadata": {},
     "output_type": "execute_result"
    }
   ],
   "source": [
    "df.label.value_counts()"
   ]
  },
  {
   "cell_type": "code",
   "execution_count": 12,
   "metadata": {},
   "outputs": [],
   "source": [
    "## remove the label < 20 posts\n",
    "df = df[~df['label'].isin([\n",
    "                      '824.staff-support.email.0',\n",
    "                      '824.online-experience.language.0',\n",
    "                      '824.purchase-booking-experience.choice-variety.0',\n",
    "                      '824.logistics-rides.speed.0',\n",
    "                      '824.attributes.size-fit.0',\n",
    "                      '824.logistics-rides.order-accuracy.0',\n",
    "                      '824.attributes.taste-flavour.0',\n",
    "                      '824.attributes.cleanliness.0'])]"
   ]
  },
  {
   "cell_type": "code",
   "execution_count": 13,
   "metadata": {},
   "outputs": [],
   "source": [
    "label_df = pd.merge(df['comment'],pd.get_dummies(df['label']),left_index=True, right_index=True)"
   ]
  },
  {
   "cell_type": "code",
   "execution_count": 14,
   "metadata": {},
   "outputs": [
    {
     "name": "stdout",
     "output_type": "stream",
     "text": [
      "Label number: 7\n"
     ]
    }
   ],
   "source": [
    "print(\"Label number:\", len(label_df.drop('comment',axis=1).columns))"
   ]
  },
  {
   "cell_type": "code",
   "execution_count": null,
   "metadata": {},
   "outputs": [],
   "source": []
  },
  {
   "cell_type": "markdown",
   "metadata": {},
   "source": [
    "## 2. train-val split"
   ]
  },
  {
   "cell_type": "code",
   "execution_count": 15,
   "metadata": {},
   "outputs": [],
   "source": [
    "from sklearn.model_selection import train_test_split"
   ]
  },
  {
   "cell_type": "code",
   "execution_count": 16,
   "metadata": {},
   "outputs": [],
   "source": [
    "train, val = train_test_split(label_df,test_size=0.1,random_state=101)"
   ]
  },
  {
   "cell_type": "code",
   "execution_count": 17,
   "metadata": {},
   "outputs": [
    {
     "data": {
      "text/plain": [
       "((5079, 8), (565, 8))"
      ]
     },
     "execution_count": 17,
     "metadata": {},
     "output_type": "execute_result"
    }
   ],
   "source": [
    "train.shape, val.shape"
   ]
  },
  {
   "cell_type": "code",
   "execution_count": null,
   "metadata": {},
   "outputs": [],
   "source": []
  },
  {
   "cell_type": "markdown",
   "metadata": {},
   "source": [
    "## 3. Model Comparison"
   ]
  },
  {
   "cell_type": "markdown",
   "metadata": {},
   "source": [
    "### 3.2 W2V + LSTM"
   ]
  },
  {
   "cell_type": "code",
   "execution_count": 18,
   "metadata": {},
   "outputs": [
    {
     "name": "stdout",
     "output_type": "stream",
     "text": [
      "2.4.1\n"
     ]
    }
   ],
   "source": [
    "import tensorflow as tf\n",
    "print(tf.__version__)\n",
    "\n",
    "from tensorflow.keras.preprocessing.text import Tokenizer\n",
    "from tensorflow.keras.preprocessing.sequence import pad_sequences\n",
    "from tensorflow.keras.layers import *\n",
    "from tensorflow.keras.models import Model"
   ]
  },
  {
   "cell_type": "code",
   "execution_count": 19,
   "metadata": {},
   "outputs": [],
   "source": [
    "def label_class(y):\n",
    "    if y>0.5:\n",
    "        return 1\n",
    "    else:\n",
    "        return 0"
   ]
  },
  {
   "cell_type": "code",
   "execution_count": 20,
   "metadata": {},
   "outputs": [],
   "source": [
    "## tokenization\n",
    "\n",
    "vocab_size = 5000\n",
    "embedding_dim = 32\n",
    "max_length = 200 ## from eda, we know most of posts having the token number less than 200\n",
    "trunc_type = 'post'\n",
    "oov_toc = \"<OOV>\"\n"
   ]
  },
  {
   "cell_type": "code",
   "execution_count": 21,
   "metadata": {},
   "outputs": [],
   "source": [
    "tokenizer = Tokenizer(num_words=vocab_size, oov_token=oov_toc)\n",
    "tokenizer.fit_on_texts(train['comment'])\n",
    "word_index = tokenizer.word_index"
   ]
  },
  {
   "cell_type": "code",
   "execution_count": 85,
   "metadata": {},
   "outputs": [],
   "source": [
    "with open(\"../models/w2v/token_config.json\",\"w\") as tk:\n",
    "    json.dump(tokenizer.to_json(),tk)"
   ]
  },
  {
   "cell_type": "code",
   "execution_count": 22,
   "metadata": {},
   "outputs": [],
   "source": [
    "train_sequences = tokenizer.texts_to_sequences(train['comment'])\n",
    "train_padded = pad_sequences(train_sequences,maxlen=max_length, truncating=trunc_type)"
   ]
  },
  {
   "cell_type": "code",
   "execution_count": 23,
   "metadata": {},
   "outputs": [],
   "source": [
    "test_sequences = tokenizer.texts_to_sequences(val['comment'])\n",
    "test_padded = pad_sequences(test_sequences,maxlen=max_length)"
   ]
  },
  {
   "cell_type": "code",
   "execution_count": 24,
   "metadata": {},
   "outputs": [
    {
     "data": {
      "text/plain": [
       "((5079, 200), (565, 200))"
      ]
     },
     "execution_count": 24,
     "metadata": {},
     "output_type": "execute_result"
    }
   ],
   "source": [
    "train_padded.shape, test_padded.shape"
   ]
  },
  {
   "cell_type": "code",
   "execution_count": 25,
   "metadata": {},
   "outputs": [
    {
     "data": {
      "text/plain": [
       "(5079, 7)"
      ]
     },
     "execution_count": 25,
     "metadata": {},
     "output_type": "execute_result"
    }
   ],
   "source": [
    "train_labels = train.drop('comment',axis=1) \n",
    "train_labels.fillna(0,inplace=True)\n",
    "train_labels = train_labels.values\n",
    "train_labels.shape"
   ]
  },
  {
   "cell_type": "code",
   "execution_count": null,
   "metadata": {},
   "outputs": [],
   "source": []
  },
  {
   "cell_type": "code",
   "execution_count": null,
   "metadata": {},
   "outputs": [],
   "source": []
  },
  {
   "cell_type": "code",
   "execution_count": 19,
   "metadata": {},
   "outputs": [],
   "source": [
    "## Create W2V embedding"
   ]
  },
  {
   "cell_type": "code",
   "execution_count": 20,
   "metadata": {},
   "outputs": [],
   "source": [
    "input_layer = Input(shape=(max_length,),name='input')\n",
    "x = Embedding(vocab_size, embedding_dim, input_length=max_length)(input_layer)\n",
    "x = Bidirectional(tf.keras.layers.LSTM(64,return_sequences=True))(x)\n",
    "x = Bidirectional(tf.keras.layers.LSTM(32))(x)\n",
    "x = Dense(32,activation='relu')(x)\n",
    "x = Dense(16,activation = 'relu')(x)\n",
    "\n",
    "out1 = tf.keras.layers.Dense(1, activation='sigmoid',name = 'out1')(x)\n",
    "out2 = tf.keras.layers.Dense(1, activation='sigmoid',name = 'out2')(x)\n",
    "out3 = tf.keras.layers.Dense(1, activation='sigmoid',name = 'out3')(x)\n",
    "out4 = tf.keras.layers.Dense(1, activation='sigmoid',name = 'out4')(x)\n",
    "out5 = tf.keras.layers.Dense(1, activation='sigmoid',name = 'out5')(x)\n",
    "out6 = tf.keras.layers.Dense(1, activation='sigmoid',name = 'out6')(x)\n",
    "out7 = tf.keras.layers.Dense(1, activation='sigmoid',name = 'out7')(x)\n",
    "\n",
    "\n",
    "\n",
    "multitask_model = Model(inputs=input_layer, outputs=[out1,out2,out3,out4,out5,out6,out7])"
   ]
  },
  {
   "cell_type": "code",
   "execution_count": 21,
   "metadata": {},
   "outputs": [
    {
     "name": "stdout",
     "output_type": "stream",
     "text": [
      "Model: \"model\"\n",
      "__________________________________________________________________________________________________\n",
      "Layer (type)                    Output Shape         Param #     Connected to                     \n",
      "==================================================================================================\n",
      "input (InputLayer)              [(None, 200)]        0                                            \n",
      "__________________________________________________________________________________________________\n",
      "embedding (Embedding)           (None, 200, 32)      160000      input[0][0]                      \n",
      "__________________________________________________________________________________________________\n",
      "bidirectional (Bidirectional)   (None, 200, 128)     49664       embedding[0][0]                  \n",
      "__________________________________________________________________________________________________\n",
      "bidirectional_1 (Bidirectional) (None, 64)           41216       bidirectional[0][0]              \n",
      "__________________________________________________________________________________________________\n",
      "dense (Dense)                   (None, 32)           2080        bidirectional_1[0][0]            \n",
      "__________________________________________________________________________________________________\n",
      "dense_1 (Dense)                 (None, 16)           528         dense[0][0]                      \n",
      "__________________________________________________________________________________________________\n",
      "out1 (Dense)                    (None, 1)            17          dense_1[0][0]                    \n",
      "__________________________________________________________________________________________________\n",
      "out2 (Dense)                    (None, 1)            17          dense_1[0][0]                    \n",
      "__________________________________________________________________________________________________\n",
      "out3 (Dense)                    (None, 1)            17          dense_1[0][0]                    \n",
      "__________________________________________________________________________________________________\n",
      "out4 (Dense)                    (None, 1)            17          dense_1[0][0]                    \n",
      "__________________________________________________________________________________________________\n",
      "out5 (Dense)                    (None, 1)            17          dense_1[0][0]                    \n",
      "__________________________________________________________________________________________________\n",
      "out6 (Dense)                    (None, 1)            17          dense_1[0][0]                    \n",
      "__________________________________________________________________________________________________\n",
      "out7 (Dense)                    (None, 1)            17          dense_1[0][0]                    \n",
      "==================================================================================================\n",
      "Total params: 253,607\n",
      "Trainable params: 253,607\n",
      "Non-trainable params: 0\n",
      "__________________________________________________________________________________________________\n"
     ]
    }
   ],
   "source": [
    "multitask_model.summary()"
   ]
  },
  {
   "cell_type": "code",
   "execution_count": 22,
   "metadata": {},
   "outputs": [],
   "source": [
    "multitask_model.compile(loss='binary_crossentropy',optimizer=tf.keras.optimizers.Adam(),metrics=tf.metrics.AUC())"
   ]
  },
  {
   "cell_type": "code",
   "execution_count": 23,
   "metadata": {},
   "outputs": [],
   "source": [
    "ylabel = {'out'+str(i):train.iloc[:,i].values for i in range(1,8)}"
   ]
  },
  {
   "cell_type": "code",
   "execution_count": 24,
   "metadata": {},
   "outputs": [
    {
     "name": "stdout",
     "output_type": "stream",
     "text": [
      "Epoch 1/10\n",
      "143/143 [==============================] - 30s 162ms/step - loss: 3.0797 - out1_loss: 0.5143 - out2_loss: 0.2617 - out3_loss: 0.4269 - out4_loss: 0.4786 - out5_loss: 0.7104 - out6_loss: 0.4357 - out7_loss: 0.2520 - out1_auc: 0.5131 - out2_auc: 0.4906 - out3_auc: 0.4985 - out4_auc: 0.5145 - out5_auc: 0.5016 - out6_auc: 0.5059 - out7_auc: 0.4342 - val_loss: 2.2729 - val_out1_loss: 0.3867 - val_out2_loss: 0.1578 - val_out3_loss: 0.2680 - val_out4_loss: 0.4219 - val_out5_loss: 0.6893 - val_out6_loss: 0.3095 - val_out7_loss: 0.0397 - val_out1_auc: 0.8298 - val_out2_auc: 0.7972 - val_out3_auc: 0.4782 - val_out4_auc: 0.4719 - val_out5_auc: 0.7560 - val_out6_auc: 0.7610 - val_out7_auc: 0.5119\n",
      "Epoch 2/10\n",
      "143/143 [==============================] - 20s 142ms/step - loss: 2.2346 - out1_loss: 0.3911 - out2_loss: 0.1260 - out3_loss: 0.3249 - out4_loss: 0.4080 - out5_loss: 0.6366 - out6_loss: 0.2982 - out7_loss: 0.0497 - out1_auc: 0.7546 - out2_auc: 0.7564 - out3_auc: 0.4270 - out4_auc: 0.5159 - out5_auc: 0.7258 - out6_auc: 0.7687 - out7_auc: 0.5047 - val_loss: 2.0377 - val_out1_loss: 0.3296 - val_out2_loss: 0.1443 - val_out3_loss: 0.2635 - val_out4_loss: 0.4143 - val_out5_loss: 0.5675 - val_out6_loss: 0.2845 - val_out7_loss: 0.0339 - val_out1_auc: 0.8174 - val_out2_auc: 0.7901 - val_out3_auc: 0.5526 - val_out4_auc: 0.6248 - val_out5_auc: 0.7856 - val_out6_auc: 0.7850 - val_out7_auc: 0.2520\n",
      "Epoch 3/10\n",
      "143/143 [==============================] - 28s 196ms/step - loss: 1.9012 - out1_loss: 0.3203 - out2_loss: 0.1316 - out3_loss: 0.2949 - out4_loss: 0.4005 - out5_loss: 0.4675 - out6_loss: 0.2431 - out7_loss: 0.0433 - out1_auc: 0.8208 - out2_auc: 0.8394 - out3_auc: 0.6122 - out4_auc: 0.6695 - out5_auc: 0.8599 - out6_auc: 0.8481 - out7_auc: 0.4172 - val_loss: 1.9278 - val_out1_loss: 0.3170 - val_out2_loss: 0.1452 - val_out3_loss: 0.2587 - val_out4_loss: 0.3922 - val_out5_loss: 0.5157 - val_out6_loss: 0.2661 - val_out7_loss: 0.0329 - val_out1_auc: 0.8281 - val_out2_auc: 0.8024 - val_out3_auc: 0.6428 - val_out4_auc: 0.7015 - val_out5_auc: 0.8203 - val_out6_auc: 0.7832 - val_out7_auc: 0.2223\n",
      "Epoch 4/10\n",
      "143/143 [==============================] - 54s 376ms/step - loss: 1.7706 - out1_loss: 0.3227 - out2_loss: 0.1219 - out3_loss: 0.2933 - out4_loss: 0.3676 - out5_loss: 0.3933 - out6_loss: 0.2304 - out7_loss: 0.0415 - out1_auc: 0.8221 - out2_auc: 0.8360 - out3_auc: 0.6737 - out4_auc: 0.7341 - out5_auc: 0.8988 - out6_auc: 0.8699 - out7_auc: 0.6494 - val_loss: 1.9146 - val_out1_loss: 0.3229 - val_out2_loss: 0.1422 - val_out3_loss: 0.2518 - val_out4_loss: 0.3834 - val_out5_loss: 0.5125 - val_out6_loss: 0.2677 - val_out7_loss: 0.0341 - val_out1_auc: 0.8053 - val_out2_auc: 0.8132 - val_out3_auc: 0.6721 - val_out4_auc: 0.7132 - val_out5_auc: 0.8347 - val_out6_auc: 0.8137 - val_out7_auc: 0.2144\n",
      "Epoch 5/10\n",
      "143/143 [==============================] - 33s 228ms/step - loss: 1.6476 - out1_loss: 0.3041 - out2_loss: 0.1113 - out3_loss: 0.2909 - out4_loss: 0.3308 - out5_loss: 0.3575 - out6_loss: 0.2081 - out7_loss: 0.0450 - out1_auc: 0.8425 - out2_auc: 0.8607 - out3_auc: 0.7083 - out4_auc: 0.7928 - out5_auc: 0.9137 - out6_auc: 0.8712 - out7_auc: 0.6370 - val_loss: 1.9665 - val_out1_loss: 0.3227 - val_out2_loss: 0.1456 - val_out3_loss: 0.2533 - val_out4_loss: 0.3783 - val_out5_loss: 0.5453 - val_out6_loss: 0.2811 - val_out7_loss: 0.0402 - val_out1_auc: 0.8211 - val_out2_auc: 0.8139 - val_out3_auc: 0.6628 - val_out4_auc: 0.7497 - val_out5_auc: 0.8379 - val_out6_auc: 0.7995 - val_out7_auc: 0.3864\n",
      "Epoch 6/10\n",
      "143/143 [==============================] - 42s 294ms/step - loss: 1.5919 - out1_loss: 0.3042 - out2_loss: 0.1194 - out3_loss: 0.2610 - out4_loss: 0.3191 - out5_loss: 0.3258 - out6_loss: 0.2142 - out7_loss: 0.0481 - out1_auc: 0.8413 - out2_auc: 0.8381 - out3_auc: 0.7628 - out4_auc: 0.8047 - out5_auc: 0.9293 - out6_auc: 0.8920 - out7_auc: 0.6384 - val_loss: 1.9892 - val_out1_loss: 0.3290 - val_out2_loss: 0.1555 - val_out3_loss: 0.2689 - val_out4_loss: 0.3794 - val_out5_loss: 0.5384 - val_out6_loss: 0.2722 - val_out7_loss: 0.0459 - val_out1_auc: 0.8221 - val_out2_auc: 0.8237 - val_out3_auc: 0.6086 - val_out4_auc: 0.7572 - val_out5_auc: 0.8258 - val_out6_auc: 0.8352 - val_out7_auc: 0.3093\n",
      "Epoch 7/10\n",
      "143/143 [==============================] - 43s 304ms/step - loss: 1.5545 - out1_loss: 0.2942 - out2_loss: 0.1188 - out3_loss: 0.2643 - out4_loss: 0.3188 - out5_loss: 0.3190 - out6_loss: 0.2050 - out7_loss: 0.0344 - out1_auc: 0.8561 - out2_auc: 0.8577 - out3_auc: 0.7894 - out4_auc: 0.8148 - out5_auc: 0.9359 - out6_auc: 0.8945 - out7_auc: 0.7727 - val_loss: 1.9171 - val_out1_loss: 0.3095 - val_out2_loss: 0.1351 - val_out3_loss: 0.2601 - val_out4_loss: 0.3886 - val_out5_loss: 0.5220 - val_out6_loss: 0.2685 - val_out7_loss: 0.0333 - val_out1_auc: 0.8451 - val_out2_auc: 0.8450 - val_out3_auc: 0.6559 - val_out4_auc: 0.7341 - val_out5_auc: 0.8474 - val_out6_auc: 0.8327 - val_out7_auc: 0.4965\n",
      "Epoch 8/10\n",
      "143/143 [==============================] - 42s 293ms/step - loss: 1.5254 - out1_loss: 0.2869 - out2_loss: 0.1218 - out3_loss: 0.2497 - out4_loss: 0.3129 - out5_loss: 0.3097 - out6_loss: 0.2101 - out7_loss: 0.0343 - out1_auc: 0.8559 - out2_auc: 0.8563 - out3_auc: 0.8067 - out4_auc: 0.8419 - out5_auc: 0.9396 - out6_auc: 0.8953 - out7_auc: 0.7876 - val_loss: 1.9627 - val_out1_loss: 0.3285 - val_out2_loss: 0.1464 - val_out3_loss: 0.2658 - val_out4_loss: 0.3711 - val_out5_loss: 0.5406 - val_out6_loss: 0.2641 - val_out7_loss: 0.0462 - val_out1_auc: 0.8213 - val_out2_auc: 0.8349 - val_out3_auc: 0.6345 - val_out4_auc: 0.7695 - val_out5_auc: 0.8355 - val_out6_auc: 0.8354 - val_out7_auc: 0.3755\n",
      "Epoch 9/10\n",
      "143/143 [==============================] - 51s 354ms/step - loss: 1.4043 - out1_loss: 0.2737 - out2_loss: 0.1106 - out3_loss: 0.2435 - out4_loss: 0.2738 - out5_loss: 0.2744 - out6_loss: 0.1956 - out7_loss: 0.0327 - out1_auc: 0.8863 - out2_auc: 0.8697 - out3_auc: 0.8358 - out4_auc: 0.8737 - out5_auc: 0.9519 - out6_auc: 0.9227 - out7_auc: 0.8138 - val_loss: 1.9721 - val_out1_loss: 0.3297 - val_out2_loss: 0.1435 - val_out3_loss: 0.2726 - val_out4_loss: 0.3739 - val_out5_loss: 0.5463 - val_out6_loss: 0.2583 - val_out7_loss: 0.0478 - val_out1_auc: 0.8184 - val_out2_auc: 0.8192 - val_out3_auc: 0.6714 - val_out4_auc: 0.7721 - val_out5_auc: 0.8381 - val_out6_auc: 0.8489 - val_out7_auc: 0.3211\n",
      "Epoch 10/10\n",
      "143/143 [==============================] - 49s 339ms/step - loss: 1.4135 - out1_loss: 0.2695 - out2_loss: 0.1149 - out3_loss: 0.2339 - out4_loss: 0.2961 - out5_loss: 0.2856 - out6_loss: 0.1833 - out7_loss: 0.0302 - out1_auc: 0.8780 - out2_auc: 0.8714 - out3_auc: 0.8274 - out4_auc: 0.8525 - out5_auc: 0.9492 - out6_auc: 0.9303 - out7_auc: 0.8427 - val_loss: 1.9887 - val_out1_loss: 0.3250 - val_out2_loss: 0.1491 - val_out3_loss: 0.2683 - val_out4_loss: 0.3840 - val_out5_loss: 0.5679 - val_out6_loss: 0.2502 - val_out7_loss: 0.0443 - val_out1_auc: 0.8263 - val_out2_auc: 0.8002 - val_out3_auc: 0.6436 - val_out4_auc: 0.7650 - val_out5_auc: 0.8347 - val_out6_auc: 0.8577 - val_out7_auc: 0.3775\n"
     ]
    }
   ],
   "source": [
    "hist = multitask_model.fit(x=train_padded,\n",
    "                    y=ylabel,\n",
    "                    epochs=10, \n",
    "                    validation_split=0.1,\n",
    "                    batch_size=32,\n",
    "                    workers=8,\n",
    "                    verbose=1\n",
    "                    )"
   ]
  },
  {
   "cell_type": "code",
   "execution_count": 25,
   "metadata": {},
   "outputs": [
    {
     "data": {
      "text/plain": [
       "dict_keys(['loss', 'out1_loss', 'out2_loss', 'out3_loss', 'out4_loss', 'out5_loss', 'out6_loss', 'out7_loss', 'out1_auc', 'out2_auc', 'out3_auc', 'out4_auc', 'out5_auc', 'out6_auc', 'out7_auc', 'val_loss', 'val_out1_loss', 'val_out2_loss', 'val_out3_loss', 'val_out4_loss', 'val_out5_loss', 'val_out6_loss', 'val_out7_loss', 'val_out1_auc', 'val_out2_auc', 'val_out3_auc', 'val_out4_auc', 'val_out5_auc', 'val_out6_auc', 'val_out7_auc'])"
      ]
     },
     "execution_count": 25,
     "metadata": {},
     "output_type": "execute_result"
    }
   ],
   "source": [
    "## Visualization\n",
    "hist.history.keys()"
   ]
  },
  {
   "cell_type": "code",
   "execution_count": 26,
   "metadata": {},
   "outputs": [
    {
     "data": {
      "text/plain": [
       "<matplotlib.legend.Legend at 0x7f98a58a0d90>"
      ]
     },
     "execution_count": 26,
     "metadata": {},
     "output_type": "execute_result"
    },
    {
     "data": {
      "image/png": "[encoded data removed]",
      "text/plain": [
       "<Figure size 432x288 with 1 Axes>"
      ]
     },
     "metadata": {
      "needs_background": "light"
     },
     "output_type": "display_data"
    }
   ],
   "source": [
    "plt.title('Overall Loss')\n",
    "plt.plot(range(1,11),hist.history['loss'])\n",
    "plt.plot(range(1,11),hist.history['val_loss'])\n",
    "\n",
    "plt.legend(['train loss','val loss'])"
   ]
  },
  {
   "cell_type": "code",
   "execution_count": 27,
   "metadata": {},
   "outputs": [
    {
     "data": {
      "image/png": "[encoded data removed]",
      "text/plain": [
       "<Figure size 864x288 with 2 Axes>"
      ]
     },
     "metadata": {
      "needs_background": "light"
     },
     "output_type": "display_data"
    }
   ],
   "source": [
    "def plot_loss_and_auc(label_no):\n",
    "    fig, axes = plt.subplots(nrows=1, ncols=2, figsize=(12, 4))\n",
    "    axes[0].plot(range(1,11),hist.history['out'+str(label_no)+'_loss'])\n",
    "    axes[0].plot(range(1,11),hist.history['val_out'+str(label_no)+'_loss'])\n",
    "    axes[0].set_title(f'Loss of label {label_no}')\n",
    "    axes[0].legend(['train loss','val loss'])\n",
    "    axes[1].plot(range(1,11),hist.history['out'+str(label_no)+'_auc'])\n",
    "    axes[1].plot(range(1,11),hist.history['val_out'+str(label_no)+'_auc'])\n",
    "    axes[1].set_title(f'AUC of label {label_no}')\n",
    "    axes[1].legend(['train loss','val loss'])\n",
    "    fig.tight_layout()\n",
    "    \n",
    "\n",
    "plot_loss_and_auc(2)"
   ]
  },
  {
   "cell_type": "code",
   "execution_count": null,
   "metadata": {},
   "outputs": [],
   "source": [
    "## prediction"
   ]
  },
  {
   "cell_type": "code",
   "execution_count": 28,
   "metadata": {},
   "outputs": [],
   "source": [
    "prediction2 = multitask_model.predict(test_padded)\n",
    "prediction2 = [[label_class(i) for i in p] for p in prediction2]\n",
    "prediction2 = pd.DataFrame(prediction2).transpose()"
   ]
  },
  {
   "cell_type": "code",
   "execution_count": 29,
   "metadata": {},
   "outputs": [
    {
     "name": "stdout",
     "output_type": "stream",
     "text": [
      "Unweighted output:\n",
      "                                                          precision    recall  f1-score   support\n",
      "\n",
      "                824.account-management.account-access.0       0.50      0.33      0.39        95\n",
      "824.account-management.fingerprint-facial-recognition.0       0.00      0.00      0.00        14\n",
      "                         824.company-brand.competitor.0       0.00      0.00      0.00        68\n",
      "                        824.company-brand.convenience.0       0.40      0.06      0.10        72\n",
      "               824.company-brand.general-satisfaction.0       0.73      0.75      0.74       269\n",
      "               824.online-experience.updates-versions.0       0.00      0.00      0.00        44\n",
      "                        824.staff-support.agent-named.0       0.00      0.00      0.00         3\n",
      "\n",
      "                                              micro avg       0.68      0.42      0.52       565\n",
      "                                              macro avg       0.23      0.16      0.18       565\n",
      "                                           weighted avg       0.48      0.42      0.43       565\n",
      "                                            samples avg       0.42      0.42      0.42       565\n",
      "\n"
     ]
    },
    {
     "name": "stderr",
     "output_type": "stream",
     "text": [
      "/Users/szuyaochien/opt/anaconda3/lib/python3.7/site-packages/sklearn/metrics/_classification.py:1272: UndefinedMetricWarning: Precision and F-score are ill-defined and being set to 0.0 in labels with no predicted samples. Use `zero_division` parameter to control this behavior.\n",
      "  _warn_prf(average, modifier, msg_start, len(result))\n",
      "/Users/szuyaochien/opt/anaconda3/lib/python3.7/site-packages/sklearn/metrics/_classification.py:1272: UndefinedMetricWarning: Precision and F-score are ill-defined and being set to 0.0 in samples with no predicted labels. Use `zero_division` parameter to control this behavior.\n",
      "  _warn_prf(average, modifier, msg_start, len(result))\n"
     ]
    }
   ],
   "source": [
    "print(\"Unweighted output:\\n\", classification_report(val.drop('comment',axis=1).values,\n",
    "                                                    prediction2,\n",
    "                                                   target_names=val.drop('comment',axis=1).columns)\n",
    "     )"
   ]
  },
  {
   "cell_type": "code",
   "execution_count": 30,
   "metadata": {},
   "outputs": [
    {
     "name": "stderr",
     "output_type": "stream",
     "text": [
      "WARNING:absl:Found untraced functions such as lstm_cell_1_layer_call_and_return_conditional_losses, lstm_cell_1_layer_call_fn, lstm_cell_2_layer_call_and_return_conditional_losses, lstm_cell_2_layer_call_fn, lstm_cell_4_layer_call_and_return_conditional_losses while saving (showing 5 of 20). These functions will not be directly callable after loading.\n",
      "WARNING:absl:Found untraced functions such as lstm_cell_1_layer_call_and_return_conditional_losses, lstm_cell_1_layer_call_fn, lstm_cell_2_layer_call_and_return_conditional_losses, lstm_cell_2_layer_call_fn, lstm_cell_4_layer_call_and_return_conditional_losses while saving (showing 5 of 20). These functions will not be directly callable after loading.\n"
     ]
    },
    {
     "name": "stdout",
     "output_type": "stream",
     "text": [
      "INFO:tensorflow:Assets written to: ../models/w2v/model/assets\n"
     ]
    },
    {
     "name": "stderr",
     "output_type": "stream",
     "text": [
      "INFO:tensorflow:Assets written to: ../models/w2v/model/assets\n"
     ]
    }
   ],
   "source": [
    "multitask_model.save('../models/w2v/model')"
   ]
  },
  {
   "cell_type": "code",
   "execution_count": null,
   "metadata": {},
   "outputs": [],
   "source": []
  },
  {
   "cell_type": "code",
   "execution_count": null,
   "metadata": {},
   "outputs": [],
   "source": [
    "## weighted class "
   ]
  },
  {
   "cell_type": "code",
   "execution_count": 38,
   "metadata": {},
   "outputs": [],
   "source": [
    "from sklearn.utils.class_weight import compute_class_weight\n",
    "yweights = {'out'+str(i): compute_class_weight('balanced',np.unique(train.iloc[:,i].values), train.iloc[:,i].values) for i in range(1,8)}"
   ]
  },
  {
   "cell_type": "code",
   "execution_count": 39,
   "metadata": {},
   "outputs": [
    {
     "name": "stdout",
     "output_type": "stream",
     "text": [
      "balance class weights:\n",
      " {'out1': {0: 0.5868962329558586, 1: 3.376994680851064}, 'out2': {0: 0.5189006947282386, 1: 13.727027027027027}, 'out3': {0: 0.5488437432461638, 1: 5.618362831858407}, 'out4': {0: 0.5835248161764706, 1: 3.4931224209078406}, 'out5': {0: 0.9525506376594148, 1: 1.0524243680066308}, 'out6': {0: 0.5571522597630539, 1: 4.8742802303262955}, 'out7': {0: 0.5028712871287129, 1: 87.56896551724138}}\n"
     ]
    }
   ],
   "source": [
    "yweights_dict = {i: {0:yweights[i][0],1:yweights[i][1]} for i in yweights}\n",
    "print(\"balance class weights:\\n\",yweights_dict)"
   ]
  },
  {
   "cell_type": "code",
   "execution_count": 40,
   "metadata": {},
   "outputs": [
    {
     "ename": "ValueError",
     "evalue": "Expected `class_weight` to be a dict with keys from 0 to one less than the number of classes, found {'out1': {0: 0.5868962329558586, 1: 3.376994680851064}, 'out2': {0: 0.5189006947282386, 1: 13.727027027027027}, 'out3': {0: 0.5488437432461638, 1: 5.618362831858407}, 'out4': {0: 0.5835248161764706, 1: 3.4931224209078406}, 'out5': {0: 0.9525506376594148, 1: 1.0524243680066308}, 'out6': {0: 0.5571522597630539, 1: 4.8742802303262955}, 'out7': {0: 0.5028712871287129, 1: 87.56896551724138}}",
     "output_type": "error",
     "traceback": [
      "\u001b[0;31m---------------------------------------------------------------------------\u001b[0m",
      "\u001b[0;31mValueError\u001b[0m                                Traceback (most recent call last)",
      "\u001b[0;32m<ipython-input-40-1d36106f4005>\u001b[0m in \u001b[0;36m<module>\u001b[0;34m\u001b[0m\n\u001b[1;32m      5\u001b[0m                     \u001b[0mvalidation_split\u001b[0m\u001b[0;34m=\u001b[0m\u001b[0;36m0.1\u001b[0m\u001b[0;34m,\u001b[0m\u001b[0;34m\u001b[0m\u001b[0;34m\u001b[0m\u001b[0m\n\u001b[1;32m      6\u001b[0m                     \u001b[0mbatch_size\u001b[0m\u001b[0;34m=\u001b[0m\u001b[0;36m32\u001b[0m\u001b[0;34m,\u001b[0m\u001b[0;34m\u001b[0m\u001b[0;34m\u001b[0m\u001b[0m\n\u001b[0;32m----> 7\u001b[0;31m                     \u001b[0mclass_weight\u001b[0m\u001b[0;34m=\u001b[0m\u001b[0myweights_dict\u001b[0m\u001b[0;34m\u001b[0m\u001b[0;34m\u001b[0m\u001b[0m\n\u001b[0m\u001b[1;32m      8\u001b[0m                     ) \n",
      "\u001b[0;32m~/opt/anaconda3/lib/python3.7/site-packages/tensorflow/python/keras/engine/training.py\u001b[0m in \u001b[0;36mfit\u001b[0;34m(self, x, y, batch_size, epochs, verbose, callbacks, validation_split, validation_data, shuffle, class_weight, sample_weight, initial_epoch, steps_per_epoch, validation_steps, validation_batch_size, validation_freq, max_queue_size, workers, use_multiprocessing)\u001b[0m\n\u001b[1;32m   1062\u001b[0m           \u001b[0muse_multiprocessing\u001b[0m\u001b[0;34m=\u001b[0m\u001b[0muse_multiprocessing\u001b[0m\u001b[0;34m,\u001b[0m\u001b[0;34m\u001b[0m\u001b[0;34m\u001b[0m\u001b[0m\n\u001b[1;32m   1063\u001b[0m           \u001b[0mmodel\u001b[0m\u001b[0;34m=\u001b[0m\u001b[0mself\u001b[0m\u001b[0;34m,\u001b[0m\u001b[0;34m\u001b[0m\u001b[0;34m\u001b[0m\u001b[0m\n\u001b[0;32m-> 1064\u001b[0;31m           steps_per_execution=self._steps_per_execution)\n\u001b[0m\u001b[1;32m   1065\u001b[0m \u001b[0;34m\u001b[0m\u001b[0m\n\u001b[1;32m   1066\u001b[0m       \u001b[0;31m# Container that configures and calls `tf.keras.Callback`s.\u001b[0m\u001b[0;34m\u001b[0m\u001b[0;34m\u001b[0m\u001b[0;34m\u001b[0m\u001b[0m\n",
      "\u001b[0;32m~/opt/anaconda3/lib/python3.7/site-packages/tensorflow/python/keras/engine/data_adapter.py\u001b[0m in \u001b[0;36m__init__\u001b[0;34m(self, x, y, sample_weight, batch_size, steps_per_epoch, initial_epoch, epochs, shuffle, class_weight, max_queue_size, workers, use_multiprocessing, model, steps_per_execution)\u001b[0m\n\u001b[1;32m   1115\u001b[0m     \u001b[0mdataset\u001b[0m \u001b[0;34m=\u001b[0m \u001b[0mself\u001b[0m\u001b[0;34m.\u001b[0m\u001b[0m_adapter\u001b[0m\u001b[0;34m.\u001b[0m\u001b[0mget_dataset\u001b[0m\u001b[0;34m(\u001b[0m\u001b[0;34m)\u001b[0m\u001b[0;34m\u001b[0m\u001b[0;34m\u001b[0m\u001b[0m\n\u001b[1;32m   1116\u001b[0m     \u001b[0;32mif\u001b[0m \u001b[0mclass_weight\u001b[0m\u001b[0;34m:\u001b[0m\u001b[0;34m\u001b[0m\u001b[0;34m\u001b[0m\u001b[0m\n\u001b[0;32m-> 1117\u001b[0;31m       \u001b[0mdataset\u001b[0m \u001b[0;34m=\u001b[0m \u001b[0mdataset\u001b[0m\u001b[0;34m.\u001b[0m\u001b[0mmap\u001b[0m\u001b[0;34m(\u001b[0m\u001b[0m_make_class_weight_map_fn\u001b[0m\u001b[0;34m(\u001b[0m\u001b[0mclass_weight\u001b[0m\u001b[0;34m)\u001b[0m\u001b[0;34m)\u001b[0m\u001b[0;34m\u001b[0m\u001b[0;34m\u001b[0m\u001b[0m\n\u001b[0m\u001b[1;32m   1118\u001b[0m     \u001b[0mself\u001b[0m\u001b[0;34m.\u001b[0m\u001b[0m_inferred_steps\u001b[0m \u001b[0;34m=\u001b[0m \u001b[0mself\u001b[0m\u001b[0;34m.\u001b[0m\u001b[0m_infer_steps\u001b[0m\u001b[0;34m(\u001b[0m\u001b[0msteps_per_epoch\u001b[0m\u001b[0;34m,\u001b[0m \u001b[0mdataset\u001b[0m\u001b[0;34m)\u001b[0m\u001b[0;34m\u001b[0m\u001b[0;34m\u001b[0m\u001b[0m\n\u001b[1;32m   1119\u001b[0m \u001b[0;34m\u001b[0m\u001b[0m\n",
      "\u001b[0;32m~/opt/anaconda3/lib/python3.7/site-packages/tensorflow/python/keras/engine/data_adapter.py\u001b[0m in \u001b[0;36m_make_class_weight_map_fn\u001b[0;34m(class_weight)\u001b[0m\n\u001b[1;32m   1282\u001b[0m         \u001b[0;34m\"Expected `class_weight` to be a dict with keys from 0 to one less \"\u001b[0m\u001b[0;34m\u001b[0m\u001b[0;34m\u001b[0m\u001b[0m\n\u001b[1;32m   1283\u001b[0m         \"than the number of classes, found {}\").format(class_weight)\n\u001b[0;32m-> 1284\u001b[0;31m     \u001b[0;32mraise\u001b[0m \u001b[0mValueError\u001b[0m\u001b[0;34m(\u001b[0m\u001b[0merror_msg\u001b[0m\u001b[0;34m)\u001b[0m\u001b[0;34m\u001b[0m\u001b[0;34m\u001b[0m\u001b[0m\n\u001b[0m\u001b[1;32m   1285\u001b[0m \u001b[0;34m\u001b[0m\u001b[0m\n\u001b[1;32m   1286\u001b[0m   class_weight_tensor = ops.convert_to_tensor_v2_with_dispatch(\n",
      "\u001b[0;31mValueError\u001b[0m: Expected `class_weight` to be a dict with keys from 0 to one less than the number of classes, found {'out1': {0: 0.5868962329558586, 1: 3.376994680851064}, 'out2': {0: 0.5189006947282386, 1: 13.727027027027027}, 'out3': {0: 0.5488437432461638, 1: 5.618362831858407}, 'out4': {0: 0.5835248161764706, 1: 3.4931224209078406}, 'out5': {0: 0.9525506376594148, 1: 1.0524243680066308}, 'out6': {0: 0.5571522597630539, 1: 4.8742802303262955}, 'out7': {0: 0.5028712871287129, 1: 87.56896551724138}}"
     ]
    }
   ],
   "source": [
    "## tensorflow does not support multioutput class_weight like Keras used to do :(((( !\n",
    "multitask_model.fit(x=train_padded,\n",
    "                    y=ylabel,\n",
    "                    epochs=10,\n",
    "                    validation_split=0.1,\n",
    "                    batch_size=32,\n",
    "                    class_weight=yweights_dict\n",
    "                    ) "
   ]
  },
  {
   "cell_type": "code",
   "execution_count": null,
   "metadata": {},
   "outputs": [],
   "source": []
  }
 ],
 "metadata": {
  "kernelspec": {
   "display_name": "Python 3",
   "language": "python",
   "name": "python3"
  },
  "language_info": {
   "codemirror_mode": {
    "name": "ipython",
    "version": 3
   },
   "file_extension": ".py",
   "mimetype": "text/x-python",
   "name": "python",
   "nbconvert_exporter": "python",
   "pygments_lexer": "ipython3",
   "version": "3.7.4"
  }
 },
 "nbformat": 4,
 "nbformat_minor": 4
}
