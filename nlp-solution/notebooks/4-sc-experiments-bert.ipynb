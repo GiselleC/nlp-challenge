{
 "cells": [
  {
   "cell_type": "code",
   "execution_count": 1,
   "metadata": {},
   "outputs": [
    {
     "name": "stderr",
     "output_type": "stream",
     "text": [
      "/Users/szuyaochien/opt/anaconda3/lib/python3.7/site-packages/statsmodels/tools/_testing.py:19: FutureWarning: pandas.util.testing is deprecated. Use the functions in the public API at pandas.testing instead.\n",
      "  import pandas.util.testing as tm\n"
     ]
    }
   ],
   "source": [
    "import pandas as pd\n",
    "import numpy as np\n",
    "import matplotlib.pyplot as plt\n",
    "%matplotlib inline\n",
    "\n",
    "import seaborn as sns\n",
    "sns.set_style(\"dark\")\n",
    "plt.style.use('ggplot')\n",
    "\n",
    "from sklearn.metrics import classification_report"
   ]
  },
  {
   "cell_type": "markdown",
   "metadata": {},
   "source": [
    "## 1. Load data from train"
   ]
  },
  {
   "cell_type": "code",
   "execution_count": 2,
   "metadata": {},
   "outputs": [
    {
     "name": "stdout",
     "output_type": "stream",
     "text": [
      "2021-04-25 12:25:38,991 INFO sqlalchemy.engine.base.Engine SELECT CAST('test plain returns' AS VARCHAR(60)) AS anon_1\n",
      "2021-04-25 12:25:38,992 INFO sqlalchemy.engine.base.Engine ()\n",
      "2021-04-25 12:25:38,993 INFO sqlalchemy.engine.base.Engine SELECT CAST('test unicode returns' AS VARCHAR(60)) AS anon_1\n",
      "2021-04-25 12:25:38,993 INFO sqlalchemy.engine.base.Engine ()\n",
      "2021-04-25 12:25:38,994 INFO sqlalchemy.engine.base.Engine PRAGMA main.table_info(\"SELECT * FROM train\")\n",
      "2021-04-25 12:25:38,995 INFO sqlalchemy.engine.base.Engine ()\n",
      "2021-04-25 12:25:38,996 INFO sqlalchemy.engine.base.Engine PRAGMA temp.table_info(\"SELECT * FROM train\")\n",
      "2021-04-25 12:25:38,996 INFO sqlalchemy.engine.base.Engine ()\n",
      "2021-04-25 12:25:38,997 INFO sqlalchemy.engine.base.Engine SELECT * FROM train\n",
      "2021-04-25 12:25:38,997 INFO sqlalchemy.engine.base.Engine ()\n"
     ]
    }
   ],
   "source": [
    "from sqlalchemy import create_engine\n",
    "\n",
    "engine = create_engine('sqlite:///../data/data.db', echo=True)\n",
    "conn = engine.connect()\n",
    "\n",
    "df = pd.read_sql(\"SELECT * FROM train\",conn)"
   ]
  },
  {
   "cell_type": "code",
   "execution_count": 3,
   "metadata": {},
   "outputs": [
    {
     "data": {
      "text/plain": [
       "(5698, 3)"
      ]
     },
     "execution_count": 3,
     "metadata": {},
     "output_type": "execute_result"
    }
   ],
   "source": [
    "df.shape"
   ]
  },
  {
   "cell_type": "code",
   "execution_count": 4,
   "metadata": {},
   "outputs": [
    {
     "data": {
      "text/plain": [
       "824.company-brand.general-satisfaction.0                   2682\n",
       "824.account-management.account-access.0                     847\n",
       "824.company-brand.convenience.0                             799\n",
       "824.online-experience.updates-versions.0                    565\n",
       "824.company-brand.competitor.0                              520\n",
       "824.account-management.fingerprint-facial-recognition.0     199\n",
       "824.staff-support.agent-named.0                              32\n",
       "824.staff-support.email.0                                    17\n",
       "824.online-experience.language.0                             13\n",
       "824.purchase-booking-experience.choice-variety.0             11\n",
       "824.logistics-rides.speed.0                                   6\n",
       "824.attributes.size-fit.0                                     3\n",
       "824.logistics-rides.order-accuracy.0                          2\n",
       "824.attributes.cleanliness.0                                  1\n",
       "824.attributes.taste-flavour.0                                1\n",
       "Name: label, dtype: int64"
      ]
     },
     "execution_count": 4,
     "metadata": {},
     "output_type": "execute_result"
    }
   ],
   "source": [
    "df.label.value_counts()"
   ]
  },
  {
   "cell_type": "code",
   "execution_count": 5,
   "metadata": {},
   "outputs": [],
   "source": [
    "## remove the label < 20 posts\n",
    "df = df[~df['label'].isin([\n",
    "                      '824.staff-support.email.0',\n",
    "                      '824.online-experience.language.0',\n",
    "                      '824.purchase-booking-experience.choice-variety.0',\n",
    "                      '824.logistics-rides.speed.0',\n",
    "                      '824.attributes.size-fit.0',\n",
    "                      '824.logistics-rides.order-accuracy.0',\n",
    "                      '824.attributes.taste-flavour.0',\n",
    "                      '824.attributes.cleanliness.0'])]"
   ]
  },
  {
   "cell_type": "code",
   "execution_count": 6,
   "metadata": {},
   "outputs": [],
   "source": [
    "label_df = pd.merge(df['comment'],pd.get_dummies(df['label']),left_index=True, right_index=True)"
   ]
  },
  {
   "cell_type": "code",
   "execution_count": 7,
   "metadata": {},
   "outputs": [
    {
     "name": "stdout",
     "output_type": "stream",
     "text": [
      "Label number: 7\n"
     ]
    }
   ],
   "source": [
    "print(\"Label number:\", len(label_df.drop('comment',axis=1).columns))"
   ]
  },
  {
   "cell_type": "code",
   "execution_count": null,
   "metadata": {},
   "outputs": [],
   "source": []
  },
  {
   "cell_type": "markdown",
   "metadata": {},
   "source": [
    "## 2. train-val split"
   ]
  },
  {
   "cell_type": "code",
   "execution_count": 8,
   "metadata": {},
   "outputs": [],
   "source": [
    "from sklearn.model_selection import train_test_split"
   ]
  },
  {
   "cell_type": "code",
   "execution_count": 9,
   "metadata": {},
   "outputs": [],
   "source": [
    "train, val = train_test_split(label_df,test_size=0.1,random_state=101)"
   ]
  },
  {
   "cell_type": "code",
   "execution_count": 10,
   "metadata": {},
   "outputs": [
    {
     "data": {
      "text/plain": [
       "((5079, 8), (565, 8))"
      ]
     },
     "execution_count": 10,
     "metadata": {},
     "output_type": "execute_result"
    }
   ],
   "source": [
    "train.shape, val.shape"
   ]
  },
  {
   "cell_type": "code",
   "execution_count": null,
   "metadata": {},
   "outputs": [],
   "source": []
  },
  {
   "cell_type": "markdown",
   "metadata": {},
   "source": [
    "## 3. Model Comparison"
   ]
  },
  {
   "cell_type": "markdown",
   "metadata": {},
   "source": [
    "### 3.3 Transfer Learning: BERT"
   ]
  },
  {
   "cell_type": "code",
   "execution_count": 11,
   "metadata": {},
   "outputs": [
    {
     "name": "stdout",
     "output_type": "stream",
     "text": [
      "TF version 2.4.1\n"
     ]
    }
   ],
   "source": [
    "import tensorflow as tf\n",
    "print('TF version',tf.__version__)\n",
    "from tensorflow.keras.layers import *\n",
    "from tensorflow.keras.models import Model\n",
    "\n",
    "\n",
    "from transformers import *\n",
    "import tokenizers\n",
    "\n",
    "def label_class(y):\n",
    "    if y>0.5:\n",
    "        return 1\n",
    "    else:\n",
    "        return 0"
   ]
  },
  {
   "cell_type": "code",
   "execution_count": 12,
   "metadata": {},
   "outputs": [],
   "source": [
    "## tokenization"
   ]
  },
  {
   "cell_type": "code",
   "execution_count": 13,
   "metadata": {},
   "outputs": [],
   "source": [
    "tokenizer = BertTokenizer.from_pretrained('bert-base-uncased', do_lower_case=True)"
   ]
  },
  {
   "cell_type": "code",
   "execution_count": 14,
   "metadata": {},
   "outputs": [
    {
     "name": "stderr",
     "output_type": "stream",
     "text": [
      "/Users/szuyaochien/opt/anaconda3/lib/python3.7/site-packages/transformers/tokenization_utils_base.py:2022: FutureWarning: The `pad_to_max_length` argument is deprecated and will be removed in a future version, use `padding=True` or `padding='longest'` to pad to the longest sequence in the batch, or use `padding='max_length'` to pad to a max length. In this case, you can give a specific length with `max_length` (e.g. `max_length=45`) or leave max_length to None to pad to the maximal input size of the model (e.g. 512 for Bert).\n",
      "  FutureWarning,\n"
     ]
    },
    {
     "data": {
      "text/plain": [
       "(<tf.Tensor: shape=(1, 200), dtype=int32, numpy=\n",
       " array([[  101,  2204,  2021,  2823,  1996, 10439,  2003,  4895,  6072,\n",
       "         26029, 12742,   102,     0,     0,     0,     0,     0,     0,\n",
       "             0,     0,     0,     0,     0,     0,     0,     0,     0,\n",
       "             0,     0,     0,     0,     0,     0,     0,     0,     0,\n",
       "             0,     0,     0,     0,     0,     0,     0,     0,     0,\n",
       "             0,     0,     0,     0,     0,     0,     0,     0,     0,\n",
       "             0,     0,     0,     0,     0,     0,     0,     0,     0,\n",
       "             0,     0,     0,     0,     0,     0,     0,     0,     0,\n",
       "             0,     0,     0,     0,     0,     0,     0,     0,     0,\n",
       "             0,     0,     0,     0,     0,     0,     0,     0,     0,\n",
       "             0,     0,     0,     0,     0,     0,     0,     0,     0,\n",
       "             0,     0,     0,     0,     0,     0,     0,     0,     0,\n",
       "             0,     0,     0,     0,     0,     0,     0,     0,     0,\n",
       "             0,     0,     0,     0,     0,     0,     0,     0,     0,\n",
       "             0,     0,     0,     0,     0,     0,     0,     0,     0,\n",
       "             0,     0,     0,     0,     0,     0,     0,     0,     0,\n",
       "             0,     0,     0,     0,     0,     0,     0,     0,     0,\n",
       "             0,     0,     0,     0,     0,     0,     0,     0,     0,\n",
       "             0,     0,     0,     0,     0,     0,     0,     0,     0,\n",
       "             0,     0,     0,     0,     0,     0,     0,     0,     0,\n",
       "             0,     0,     0,     0,     0,     0,     0,     0,     0,\n",
       "             0,     0,     0,     0,     0,     0,     0,     0,     0,\n",
       "             0,     0]], dtype=int32)>,\n",
       " <tf.Tensor: shape=(1, 200), dtype=int32, numpy=\n",
       " array([[1, 1, 1, 1, 1, 1, 1, 1, 1, 1, 1, 1, 0, 0, 0, 0, 0, 0, 0, 0, 0, 0,\n",
       "         0, 0, 0, 0, 0, 0, 0, 0, 0, 0, 0, 0, 0, 0, 0, 0, 0, 0, 0, 0, 0, 0,\n",
       "         0, 0, 0, 0, 0, 0, 0, 0, 0, 0, 0, 0, 0, 0, 0, 0, 0, 0, 0, 0, 0, 0,\n",
       "         0, 0, 0, 0, 0, 0, 0, 0, 0, 0, 0, 0, 0, 0, 0, 0, 0, 0, 0, 0, 0, 0,\n",
       "         0, 0, 0, 0, 0, 0, 0, 0, 0, 0, 0, 0, 0, 0, 0, 0, 0, 0, 0, 0, 0, 0,\n",
       "         0, 0, 0, 0, 0, 0, 0, 0, 0, 0, 0, 0, 0, 0, 0, 0, 0, 0, 0, 0, 0, 0,\n",
       "         0, 0, 0, 0, 0, 0, 0, 0, 0, 0, 0, 0, 0, 0, 0, 0, 0, 0, 0, 0, 0, 0,\n",
       "         0, 0, 0, 0, 0, 0, 0, 0, 0, 0, 0, 0, 0, 0, 0, 0, 0, 0, 0, 0, 0, 0,\n",
       "         0, 0, 0, 0, 0, 0, 0, 0, 0, 0, 0, 0, 0, 0, 0, 0, 0, 0, 0, 0, 0, 0,\n",
       "         0, 0]], dtype=int32)>)"
      ]
     },
     "execution_count": 14,
     "metadata": {},
     "output_type": "execute_result"
    }
   ],
   "source": [
    "max_length = 200 \n",
    "\n",
    "def tokenize(text):\n",
    "    tokenized = tokenizer.encode_plus(text,\n",
    "                                      truncation=True,\n",
    "                                      add_special_tokens = True, \n",
    "                                      max_length = max_length, \n",
    "                                      pad_to_max_length = True, \n",
    "                                      return_attention_mask = True,\n",
    "                                      return_token_type_ids=False,\n",
    "                                      return_tensors='tf') \n",
    "    return tokenized['input_ids'], tokenized['attention_mask']\n",
    "\n",
    "tokenize(train['comment'][1401])"
   ]
  },
  {
   "cell_type": "code",
   "execution_count": 15,
   "metadata": {},
   "outputs": [],
   "source": [
    "# initialize two arrays for input tensors\n",
    "Xids = np.zeros((len(train), max_length))\n",
    "Xmask = np.zeros((len(train), max_length))\n",
    "\n",
    "# loop through data and tokenize everything\n",
    "for i, sentence in enumerate(train['comment']):\n",
    "    Xids[i, :], Xmask[i, :] = tokenize(sentence)"
   ]
  },
  {
   "cell_type": "code",
   "execution_count": 16,
   "metadata": {},
   "outputs": [],
   "source": [
    "# initialize two arrays for input tensors\n",
    "test_Xids = np.zeros((len(val), max_length))\n",
    "test_Xmask = np.zeros((len(val), max_length))\n",
    "\n",
    "# loop through data and tokenize everything\n",
    "for i, sentence in enumerate(val['comment']):\n",
    "    test_Xids[i, :], test_Xmask[i, :] = tokenize(sentence)"
   ]
  },
  {
   "cell_type": "code",
   "execution_count": 17,
   "metadata": {},
   "outputs": [
    {
     "data": {
      "text/plain": [
       "{'out1': array([0, 0, 0, ..., 0, 0, 0], dtype=uint8),\n",
       " 'out2': array([0, 0, 0, ..., 0, 1, 0], dtype=uint8),\n",
       " 'out3': array([0, 0, 0, ..., 0, 0, 0], dtype=uint8),\n",
       " 'out4': array([0, 0, 1, ..., 0, 0, 0], dtype=uint8),\n",
       " 'out5': array([1, 1, 0, ..., 1, 0, 1], dtype=uint8),\n",
       " 'out6': array([0, 0, 0, ..., 0, 0, 0], dtype=uint8),\n",
       " 'out7': array([0, 0, 0, ..., 0, 0, 0], dtype=uint8)}"
      ]
     },
     "execution_count": 17,
     "metadata": {},
     "output_type": "execute_result"
    }
   ],
   "source": [
    "ylabel = {'out'+str(i):train.iloc[:,i].values for i in range(1,8)}\n",
    "ylabel"
   ]
  },
  {
   "cell_type": "code",
   "execution_count": null,
   "metadata": {},
   "outputs": [],
   "source": []
  },
  {
   "cell_type": "code",
   "execution_count": 18,
   "metadata": {},
   "outputs": [
    {
     "name": "stderr",
     "output_type": "stream",
     "text": [
      "Some layers from the model checkpoint at bert-base-uncased were not used when initializing TFBertModel: ['nsp___cls', 'mlm___cls']\n",
      "- This IS expected if you are initializing TFBertModel from the checkpoint of a model trained on another task or with another architecture (e.g. initializing a BertForSequenceClassification model from a BertForPreTraining model).\n",
      "- This IS NOT expected if you are initializing TFBertModel from the checkpoint of a model that you expect to be exactly identical (initializing a BertForSequenceClassification model from a BertForSequenceClassification model).\n",
      "All the layers of TFBertModel were initialized from the model checkpoint at bert-base-uncased.\n",
      "If your task is similar to the task the model of the checkpoint was trained on, you can already use TFBertModel for predictions without further training.\n"
     ]
    }
   ],
   "source": [
    "# Create a fine-tune model\n",
    "bert = TFAutoModel.from_pretrained('bert-base-uncased')"
   ]
  },
  {
   "cell_type": "code",
   "execution_count": 19,
   "metadata": {},
   "outputs": [],
   "source": [
    "input_ids = Input(shape=(max_length,), name='input_ids', dtype='int32')\n",
    "mask = Input(shape=(max_length,), name='attention_mask', dtype='int32')\n",
    "embeddings = bert(input_ids, attention_mask=mask)[0]\n",
    "\n",
    "x = GlobalMaxPool1D()(embeddings)\n",
    "x = BatchNormalization()(x)\n",
    "x = Dense(64, activation='relu')(x)\n",
    "x = Dropout(0.1)(x)\n",
    "x = Dense(32, activation='relu')(x)\n",
    "\n",
    "out1 = Dense(1, activation='sigmoid',name = 'out1')(x)\n",
    "out2 = Dense(1, activation='sigmoid',name = 'out2')(x)\n",
    "out3 = Dense(1, activation='sigmoid',name = 'out3')(x)\n",
    "out4 = Dense(1, activation='sigmoid',name = 'out4')(x)\n",
    "out5 = Dense(1, activation='sigmoid',name = 'out5')(x)\n",
    "out6 = Dense(1, activation='sigmoid',name = 'out6')(x)\n",
    "out7 = Dense(1, activation='sigmoid',name = 'out7')(x)\n",
    "\n",
    "multitask_model = Model(inputs=[input_ids,mask], outputs=[out1,out2,out3,out4,out5,out6,out7])"
   ]
  },
  {
   "cell_type": "code",
   "execution_count": 20,
   "metadata": {},
   "outputs": [],
   "source": [
    "multitask_model.layers[2].trainable = False"
   ]
  },
  {
   "cell_type": "code",
   "execution_count": 21,
   "metadata": {},
   "outputs": [
    {
     "name": "stdout",
     "output_type": "stream",
     "text": [
      "Model: \"model\"\n",
      "__________________________________________________________________________________________________\n",
      "Layer (type)                    Output Shape         Param #     Connected to                     \n",
      "==================================================================================================\n",
      "input_ids (InputLayer)          [(None, 200)]        0                                            \n",
      "__________________________________________________________________________________________________\n",
      "attention_mask (InputLayer)     [(None, 200)]        0                                            \n",
      "__________________________________________________________________________________________________\n",
      "tf_bert_model (TFBertModel)     ((None, 200, 768), ( 109482240   input_ids[0][0]                  \n",
      "                                                                 attention_mask[0][0]             \n",
      "__________________________________________________________________________________________________\n",
      "global_max_pooling1d (GlobalMax (None, 768)          0           tf_bert_model[0][0]              \n",
      "__________________________________________________________________________________________________\n",
      "batch_normalization (BatchNorma (None, 768)          3072        global_max_pooling1d[0][0]       \n",
      "__________________________________________________________________________________________________\n",
      "dense (Dense)                   (None, 64)           49216       batch_normalization[0][0]        \n",
      "__________________________________________________________________________________________________\n",
      "dropout_37 (Dropout)            (None, 64)           0           dense[0][0]                      \n",
      "__________________________________________________________________________________________________\n",
      "dense_1 (Dense)                 (None, 32)           2080        dropout_37[0][0]                 \n",
      "__________________________________________________________________________________________________\n",
      "out1 (Dense)                    (None, 1)            33          dense_1[0][0]                    \n",
      "__________________________________________________________________________________________________\n",
      "out2 (Dense)                    (None, 1)            33          dense_1[0][0]                    \n",
      "__________________________________________________________________________________________________\n",
      "out3 (Dense)                    (None, 1)            33          dense_1[0][0]                    \n",
      "__________________________________________________________________________________________________\n",
      "out4 (Dense)                    (None, 1)            33          dense_1[0][0]                    \n",
      "__________________________________________________________________________________________________\n",
      "out5 (Dense)                    (None, 1)            33          dense_1[0][0]                    \n",
      "__________________________________________________________________________________________________\n",
      "out6 (Dense)                    (None, 1)            33          dense_1[0][0]                    \n",
      "__________________________________________________________________________________________________\n",
      "out7 (Dense)                    (None, 1)            33          dense_1[0][0]                    \n",
      "==================================================================================================\n",
      "Total params: 109,536,839\n",
      "Trainable params: 53,063\n",
      "Non-trainable params: 109,483,776\n",
      "__________________________________________________________________________________________________\n"
     ]
    }
   ],
   "source": [
    "multitask_model.summary()"
   ]
  },
  {
   "cell_type": "code",
   "execution_count": 22,
   "metadata": {},
   "outputs": [],
   "source": [
    "multitask_model.compile(loss='binary_crossentropy',\n",
    "                        optimizer=tf.keras.optimizers.Adam(),\n",
    "                        metrics=tf.metrics.AUC())"
   ]
  },
  {
   "cell_type": "code",
   "execution_count": 24,
   "metadata": {},
   "outputs": [
    {
     "name": "stdout",
     "output_type": "stream",
     "text": [
      "Epoch 1/3\n",
      "143/143 [==============================] - 1173s 8s/step - loss: 1.4578 - out1_loss: 0.2574 - out2_loss: 0.0923 - out3_loss: 0.1933 - out4_loss: 0.2906 - out5_loss: 0.4379 - out6_loss: 0.1678 - out7_loss: 0.0185 - out1_auc: 0.9071 - out2_auc: 0.9366 - out3_auc: 0.9081 - out4_auc: 0.8572 - out5_auc: 0.8749 - out6_auc: 0.9453 - out7_auc: 0.9190 - val_loss: 1.4833 - val_out1_loss: 0.2602 - val_out2_loss: 0.1159 - val_out3_loss: 0.1946 - val_out4_loss: 0.2788 - val_out5_loss: 0.4320 - val_out6_loss: 0.1777 - val_out7_loss: 0.0241 - val_out1_auc: 0.9068 - val_out2_auc: 0.9059 - val_out3_auc: 0.8954 - val_out4_auc: 0.8702 - val_out5_auc: 0.8790 - val_out6_auc: 0.9344 - val_out7_auc: 0.6922\n",
      "Epoch 2/3\n",
      "143/143 [==============================] - 1124s 8s/step - loss: 1.4237 - out1_loss: 0.2554 - out2_loss: 0.0928 - out3_loss: 0.1922 - out4_loss: 0.2816 - out5_loss: 0.4233 - out6_loss: 0.1626 - out7_loss: 0.0157 - out1_auc: 0.9076 - out2_auc: 0.9407 - out3_auc: 0.9088 - out4_auc: 0.8678 - out5_auc: 0.8841 - out6_auc: 0.9502 - out7_auc: 0.9844 - val_loss: 1.4632 - val_out1_loss: 0.2697 - val_out2_loss: 0.1084 - val_out3_loss: 0.1952 - val_out4_loss: 0.2651 - val_out5_loss: 0.4324 - val_out6_loss: 0.1677 - val_out7_loss: 0.0247 - val_out1_auc: 0.9030 - val_out2_auc: 0.9175 - val_out3_auc: 0.8917 - val_out4_auc: 0.8915 - val_out5_auc: 0.8797 - val_out6_auc: 0.9457 - val_out7_auc: 0.7065\n",
      "Epoch 3/3\n",
      "143/143 [==============================] - 1085s 8s/step - loss: 1.3747 - out1_loss: 0.2470 - out2_loss: 0.0846 - out3_loss: 0.1753 - out4_loss: 0.2693 - out5_loss: 0.4158 - out6_loss: 0.1683 - out7_loss: 0.0144 - out1_auc: 0.9146 - out2_auc: 0.9489 - out3_auc: 0.9287 - out4_auc: 0.8875 - out5_auc: 0.8879 - out6_auc: 0.9434 - out7_auc: 0.9682 - val_loss: 1.4605 - val_out1_loss: 0.2628 - val_out2_loss: 0.1122 - val_out3_loss: 0.1933 - val_out4_loss: 0.2687 - val_out5_loss: 0.4243 - val_out6_loss: 0.1722 - val_out7_loss: 0.0271 - val_out1_auc: 0.9056 - val_out2_auc: 0.9171 - val_out3_auc: 0.8889 - val_out4_auc: 0.8831 - val_out5_auc: 0.8840 - val_out6_auc: 0.9419 - val_out7_auc: 0.7174\n"
     ]
    }
   ],
   "source": [
    "hist = multitask_model.fit(\n",
    "                    x={'input_ids': Xids, 'attention_mask': Xmask},\n",
    "                    y=ylabel,\n",
    "                    epochs=3, \n",
    "                    validation_split=0.1,\n",
    "                    batch_size=32,\n",
    "                    workers=8,\n",
    "                    verbose=1\n",
    "                    )"
   ]
  },
  {
   "cell_type": "code",
   "execution_count": 25,
   "metadata": {},
   "outputs": [
    {
     "data": {
      "text/plain": [
       "<matplotlib.legend.Legend at 0x7fb5bad96a10>"
      ]
     },
     "execution_count": 25,
     "metadata": {},
     "output_type": "execute_result"
    },
    {
     "data": {
      "image/png": "[encoded data removed]",
      "text/plain": [
       "<Figure size 432x288 with 1 Axes>"
      ]
     },
     "metadata": {
      "needs_background": "light"
     },
     "output_type": "display_data"
    }
   ],
   "source": [
    "plt.title('Overall Loss')\n",
    "plt.plot(range(1,4),hist.history['loss'])\n",
    "plt.plot(range(1,4),hist.history['val_loss'])\n",
    "\n",
    "plt.legend(['train loss','val loss'])"
   ]
  },
  {
   "cell_type": "code",
   "execution_count": 26,
   "metadata": {},
   "outputs": [
    {
     "data": {
      "image/png": "[encoded data removed]",
      "text/plain": [
       "<Figure size 864x288 with 2 Axes>"
      ]
     },
     "metadata": {
      "needs_background": "light"
     },
     "output_type": "display_data"
    }
   ],
   "source": [
    "def plot_loss_and_auc(label_no):\n",
    "    fig, axes = plt.subplots(nrows=1, ncols=2, figsize=(12, 4))\n",
    "    axes[0].plot(range(1,4),hist.history['out'+str(label_no)+'_loss'])\n",
    "    axes[0].plot(range(1,4),hist.history['val_out'+str(label_no)+'_loss'])\n",
    "    axes[0].set_title(f'Loss of label {label_no}')\n",
    "    axes[0].legend(['train loss','val loss'])\n",
    "    axes[1].plot(range(1,4),hist.history['out'+str(label_no)+'_auc'])\n",
    "    axes[1].plot(range(1,4),hist.history['val_out'+str(label_no)+'_auc'])\n",
    "    axes[1].set_title(f'AUC of label {label_no}')\n",
    "    axes[1].legend(['train loss','val loss'])\n",
    "    fig.tight_layout()\n",
    "    \n",
    "\n",
    "plot_loss_and_auc(2)"
   ]
  },
  {
   "cell_type": "code",
   "execution_count": null,
   "metadata": {},
   "outputs": [],
   "source": [
    "## prediction"
   ]
  },
  {
   "cell_type": "code",
   "execution_count": 27,
   "metadata": {},
   "outputs": [],
   "source": [
    "prediction2 = multitask_model.predict({'input_ids': test_Xids, 'attention_mask': test_Xmask})\n",
    "prediction2 = [[label_class(i) for i in p] for p in prediction2]\n",
    "prediction2 = pd.DataFrame(prediction2).transpose()"
   ]
  },
  {
   "cell_type": "code",
   "execution_count": 28,
   "metadata": {},
   "outputs": [
    {
     "name": "stdout",
     "output_type": "stream",
     "text": [
      "Unweighted output:\n",
      "                                                          precision    recall  f1-score   support\n",
      "\n",
      "                824.account-management.account-access.0       0.75      0.42      0.54        95\n",
      "824.account-management.fingerprint-facial-recognition.0       0.25      0.14      0.18        14\n",
      "                         824.company-brand.competitor.0       0.64      0.34      0.44        68\n",
      "                        824.company-brand.convenience.0       0.62      0.53      0.57        72\n",
      "               824.company-brand.general-satisfaction.0       0.72      0.85      0.78       269\n",
      "               824.online-experience.updates-versions.0       0.81      0.68      0.74        44\n",
      "                        824.staff-support.agent-named.0       0.00      0.00      0.00         3\n",
      "\n",
      "                                              micro avg       0.70      0.64      0.67       565\n",
      "                                              macro avg       0.54      0.42      0.46       565\n",
      "                                           weighted avg       0.69      0.64      0.65       565\n",
      "                                            samples avg       0.62      0.64      0.63       565\n",
      "\n"
     ]
    },
    {
     "name": "stderr",
     "output_type": "stream",
     "text": [
      "/Users/szuyaochien/opt/anaconda3/lib/python3.7/site-packages/sklearn/metrics/_classification.py:1272: UndefinedMetricWarning: Precision and F-score are ill-defined and being set to 0.0 in labels with no predicted samples. Use `zero_division` parameter to control this behavior.\n",
      "  _warn_prf(average, modifier, msg_start, len(result))\n",
      "/Users/szuyaochien/opt/anaconda3/lib/python3.7/site-packages/sklearn/metrics/_classification.py:1272: UndefinedMetricWarning: Precision and F-score are ill-defined and being set to 0.0 in samples with no predicted labels. Use `zero_division` parameter to control this behavior.\n",
      "  _warn_prf(average, modifier, msg_start, len(result))\n"
     ]
    }
   ],
   "source": [
    "print(\"Unweighted output:\\n\", classification_report(val.drop('comment',axis=1).values,\n",
    "                                                    prediction2,\n",
    "                                                   target_names=val.drop('comment',axis=1).columns)\n",
    "     )"
   ]
  },
  {
   "cell_type": "code",
   "execution_count": 29,
   "metadata": {},
   "outputs": [
    {
     "name": "stderr",
     "output_type": "stream",
     "text": [
      "WARNING:absl:Found untraced functions such as embeddings_layer_call_fn, embeddings_layer_call_and_return_conditional_losses, encoder_layer_call_fn, encoder_layer_call_and_return_conditional_losses, pooler_layer_call_fn while saving (showing 5 of 1065). These functions will not be directly callable after loading.\n",
      "WARNING:absl:Found untraced functions such as embeddings_layer_call_fn, embeddings_layer_call_and_return_conditional_losses, encoder_layer_call_fn, encoder_layer_call_and_return_conditional_losses, pooler_layer_call_fn while saving (showing 5 of 1065). These functions will not be directly callable after loading.\n"
     ]
    },
    {
     "name": "stdout",
     "output_type": "stream",
     "text": [
      "INFO:tensorflow:Assets written to: ../models/bert/model/assets\n"
     ]
    },
    {
     "name": "stderr",
     "output_type": "stream",
     "text": [
      "INFO:tensorflow:Assets written to: ../models/bert/model/assets\n"
     ]
    }
   ],
   "source": [
    "multitask_model.save(\"../models/bert/model\",save_format='tf')"
   ]
  },
  {
   "cell_type": "code",
   "execution_count": null,
   "metadata": {},
   "outputs": [],
   "source": []
  },
  {
   "cell_type": "code",
   "execution_count": null,
   "metadata": {},
   "outputs": [],
   "source": []
  },
  {
   "cell_type": "code",
   "execution_count": null,
   "metadata": {},
   "outputs": [],
   "source": []
  }
 ],
 "metadata": {
  "kernelspec": {
   "display_name": "Python 3",
   "language": "python",
   "name": "python3"
  },
  "language_info": {
   "codemirror_mode": {
    "name": "ipython",
    "version": 3
   },
   "file_extension": ".py",
   "mimetype": "text/x-python",
   "name": "python",
   "nbconvert_exporter": "python",
   "pygments_lexer": "ipython3",
   "version": "3.7.4"
  }
 },
 "nbformat": 4,
 "nbformat_minor": 4
}
